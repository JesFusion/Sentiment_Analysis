{
  "cells": [
    {
      "cell_type": "markdown",
      "id": "c9cd699b",
      "metadata": {
        "id": "c9cd699b"
      },
      "source": [
        "### Importing the necessary libraries..."
      ]
    },
    {
      "cell_type": "code",
      "execution_count": 1,
      "id": "initial_id",
      "metadata": {
        "ExecuteTime": {
          "end_time": "2025-03-12T12:51:53.865838Z",
          "start_time": "2025-03-12T12:51:52.990337Z"
        },
        "collapsed": true,
        "id": "initial_id"
      },
      "outputs": [],
      "source": [
        "import pandas as pd\n",
        "import numpy as np\n",
        "import nltk\n",
        "import spacy\n",
        "import sklearn\n",
        "import tensorflow as tf\n",
        "import matplotlib.pyplot as plt\n",
        "import seaborn as sns"
      ]
    },
    {
      "cell_type": "markdown",
      "id": "c3434f8f",
      "metadata": {
        "id": "c3434f8f"
      },
      "source": [
        "### Loading the dataset.."
      ]
    },
    {
      "cell_type": "code",
      "execution_count": null,
      "id": "25002dd7",
      "metadata": {
        "id": "25002dd7"
      },
      "outputs": [],
      "source": [
        "movie_revs_train = pd.read_csv(\"movie_reviews_dataset/Train.csv\")\n",
        "\n",
        "movie_revs_test = pd.read_csv(\"movie_reviews_dataset/Test.csv\")\n",
        "\n",
        "movie_revs_validate = pd.read_csv(\"movie_reviews_dataset/Valid.csv\")"
      ]
    },
    {
      "cell_type": "code",
      "execution_count": null,
      "id": "fd750e1a",
      "metadata": {
        "id": "fd750e1a",
        "outputId": "e9e1cf50-5574-46f8-e007-fbec82613c26"
      },
      "outputs": [
        {
          "data": {
            "text/html": [
              "<div>\n",
              "<style scoped>\n",
              "    .dataframe tbody tr th:only-of-type {\n",
              "        vertical-align: middle;\n",
              "    }\n",
              "\n",
              "    .dataframe tbody tr th {\n",
              "        vertical-align: top;\n",
              "    }\n",
              "\n",
              "    .dataframe thead th {\n",
              "        text-align: right;\n",
              "    }\n",
              "</style>\n",
              "<table border=\"1\" class=\"dataframe\">\n",
              "  <thead>\n",
              "    <tr style=\"text-align: right;\">\n",
              "      <th></th>\n",
              "      <th>text</th>\n",
              "      <th>label</th>\n",
              "    </tr>\n",
              "  </thead>\n",
              "  <tbody>\n",
              "    <tr>\n",
              "      <th>0</th>\n",
              "      <td>I grew up (b. 1965) watching and loving the Th...</td>\n",
              "      <td>0</td>\n",
              "    </tr>\n",
              "    <tr>\n",
              "      <th>1</th>\n",
              "      <td>When I put this movie in my DVD player, and sa...</td>\n",
              "      <td>0</td>\n",
              "    </tr>\n",
              "    <tr>\n",
              "      <th>2</th>\n",
              "      <td>Why do people who do not know what a particula...</td>\n",
              "      <td>0</td>\n",
              "    </tr>\n",
              "    <tr>\n",
              "      <th>3</th>\n",
              "      <td>Even though I have great interest in Biblical ...</td>\n",
              "      <td>0</td>\n",
              "    </tr>\n",
              "    <tr>\n",
              "      <th>4</th>\n",
              "      <td>Im a die hard Dads Army fan and nothing will e...</td>\n",
              "      <td>1</td>\n",
              "    </tr>\n",
              "  </tbody>\n",
              "</table>\n",
              "</div>"
            ],
            "text/plain": [
              "                                                text  label\n",
              "0  I grew up (b. 1965) watching and loving the Th...      0\n",
              "1  When I put this movie in my DVD player, and sa...      0\n",
              "2  Why do people who do not know what a particula...      0\n",
              "3  Even though I have great interest in Biblical ...      0\n",
              "4  Im a die hard Dads Army fan and nothing will e...      1"
            ]
          },
          "execution_count": 3,
          "metadata": {},
          "output_type": "execute_result"
        }
      ],
      "source": [
        "movie_revs_train.head()"
      ]
    },
    {
      "cell_type": "code",
      "execution_count": null,
      "id": "edaac575",
      "metadata": {
        "id": "edaac575",
        "outputId": "c3f46bb1-8d56-4618-c1bd-ccbff529fa97"
      },
      "outputs": [
        {
          "data": {
            "text/html": [
              "<div>\n",
              "<style scoped>\n",
              "    .dataframe tbody tr th:only-of-type {\n",
              "        vertical-align: middle;\n",
              "    }\n",
              "\n",
              "    .dataframe tbody tr th {\n",
              "        vertical-align: top;\n",
              "    }\n",
              "\n",
              "    .dataframe thead th {\n",
              "        text-align: right;\n",
              "    }\n",
              "</style>\n",
              "<table border=\"1\" class=\"dataframe\">\n",
              "  <thead>\n",
              "    <tr style=\"text-align: right;\">\n",
              "      <th></th>\n",
              "      <th>text</th>\n",
              "      <th>label</th>\n",
              "    </tr>\n",
              "  </thead>\n",
              "  <tbody>\n",
              "    <tr>\n",
              "      <th>0</th>\n",
              "      <td>I always wrote this series off as being a comp...</td>\n",
              "      <td>0</td>\n",
              "    </tr>\n",
              "    <tr>\n",
              "      <th>1</th>\n",
              "      <td>1st watched 12/7/2002 - 3 out of 10(Dir-Steve ...</td>\n",
              "      <td>0</td>\n",
              "    </tr>\n",
              "    <tr>\n",
              "      <th>2</th>\n",
              "      <td>This movie was so poorly written and directed ...</td>\n",
              "      <td>0</td>\n",
              "    </tr>\n",
              "    <tr>\n",
              "      <th>3</th>\n",
              "      <td>The most interesting thing about Miryang (Secr...</td>\n",
              "      <td>1</td>\n",
              "    </tr>\n",
              "    <tr>\n",
              "      <th>4</th>\n",
              "      <td>when i first read about \"berlin am meer\" i did...</td>\n",
              "      <td>0</td>\n",
              "    </tr>\n",
              "  </tbody>\n",
              "</table>\n",
              "</div>"
            ],
            "text/plain": [
              "                                                text  label\n",
              "0  I always wrote this series off as being a comp...      0\n",
              "1  1st watched 12/7/2002 - 3 out of 10(Dir-Steve ...      0\n",
              "2  This movie was so poorly written and directed ...      0\n",
              "3  The most interesting thing about Miryang (Secr...      1\n",
              "4  when i first read about \"berlin am meer\" i did...      0"
            ]
          },
          "execution_count": 4,
          "metadata": {},
          "output_type": "execute_result"
        }
      ],
      "source": [
        "movie_revs_test.head()"
      ]
    },
    {
      "cell_type": "code",
      "execution_count": null,
      "id": "ae13f5bf",
      "metadata": {
        "id": "ae13f5bf",
        "outputId": "3dabdd17-3c0f-4686-bae5-9e120e3f9ec0"
      },
      "outputs": [
        {
          "data": {
            "text/html": [
              "<div>\n",
              "<style scoped>\n",
              "    .dataframe tbody tr th:only-of-type {\n",
              "        vertical-align: middle;\n",
              "    }\n",
              "\n",
              "    .dataframe tbody tr th {\n",
              "        vertical-align: top;\n",
              "    }\n",
              "\n",
              "    .dataframe thead th {\n",
              "        text-align: right;\n",
              "    }\n",
              "</style>\n",
              "<table border=\"1\" class=\"dataframe\">\n",
              "  <thead>\n",
              "    <tr style=\"text-align: right;\">\n",
              "      <th></th>\n",
              "      <th>text</th>\n",
              "      <th>label</th>\n",
              "    </tr>\n",
              "  </thead>\n",
              "  <tbody>\n",
              "    <tr>\n",
              "      <th>0</th>\n",
              "      <td>It's been about 14 years since Sharon Stone aw...</td>\n",
              "      <td>0</td>\n",
              "    </tr>\n",
              "    <tr>\n",
              "      <th>1</th>\n",
              "      <td>someone needed to make a car payment... this i...</td>\n",
              "      <td>0</td>\n",
              "    </tr>\n",
              "    <tr>\n",
              "      <th>2</th>\n",
              "      <td>The Guidelines state that a comment must conta...</td>\n",
              "      <td>0</td>\n",
              "    </tr>\n",
              "    <tr>\n",
              "      <th>3</th>\n",
              "      <td>This movie is a muddled mish-mash of clichés f...</td>\n",
              "      <td>0</td>\n",
              "    </tr>\n",
              "    <tr>\n",
              "      <th>4</th>\n",
              "      <td>Before Stan Laurel became the smaller half of ...</td>\n",
              "      <td>0</td>\n",
              "    </tr>\n",
              "  </tbody>\n",
              "</table>\n",
              "</div>"
            ],
            "text/plain": [
              "                                                text  label\n",
              "0  It's been about 14 years since Sharon Stone aw...      0\n",
              "1  someone needed to make a car payment... this i...      0\n",
              "2  The Guidelines state that a comment must conta...      0\n",
              "3  This movie is a muddled mish-mash of clichés f...      0\n",
              "4  Before Stan Laurel became the smaller half of ...      0"
            ]
          },
          "execution_count": 5,
          "metadata": {},
          "output_type": "execute_result"
        }
      ],
      "source": [
        "movie_revs_validate.head()"
      ]
    },
    {
      "cell_type": "markdown",
      "id": "03d59cc2",
      "metadata": {
        "id": "03d59cc2"
      },
      "source": [
        "checking for empty values..."
      ]
    },
    {
      "cell_type": "code",
      "execution_count": null,
      "id": "7282cf30",
      "metadata": {
        "id": "7282cf30",
        "outputId": "2ddbe01f-9625-494d-dc9d-3c9c624b9d79"
      },
      "outputs": [
        {
          "name": "stdout",
          "output_type": "stream",
          "text": [
            "Empty values in train dataset:\n",
            " text     0\n",
            "label    0\n",
            "dtype: int64 \n",
            "\n",
            "Empty values in test dataset:\n",
            " text     0\n",
            "label    0\n",
            "dtype: int64 \n",
            "\n",
            "Empty values in validation dataset:\n",
            " text     0\n",
            "label    0\n",
            "dtype: int64 \n",
            "\n"
          ]
        }
      ],
      "source": [
        "print(\"Empty values in train dataset:\\n\", movie_revs_train.isnull().sum(), '\\n')\n",
        "\n",
        "print(\"Empty values in test dataset:\\n\", movie_revs_test.isnull().sum(), '\\n')\n",
        "\n",
        "print(\"Empty values in validation dataset:\\n\", movie_revs_validate.isnull().sum(), '\\n')"
      ]
    },
    {
      "cell_type": "markdown",
      "id": "e4021c91",
      "metadata": {
        "id": "e4021c91"
      },
      "source": [
        "checking number of samples for each dataset..."
      ]
    },
    {
      "cell_type": "code",
      "execution_count": null,
      "id": "7e44c05d",
      "metadata": {
        "id": "7e44c05d",
        "outputId": "78a34ba8-cc67-40c2-b167-185099df9146"
      },
      "outputs": [
        {
          "name": "stdout",
          "output_type": "stream",
          "text": [
            "Number of samples in train dataset:\n",
            " 40000 \n",
            "\n",
            "Number of samples in test dataset:\n",
            " 5000 \n",
            "\n",
            "Number of samples in validation dataset:\n",
            " 5000 \n",
            "\n"
          ]
        }
      ],
      "source": [
        "print(\"Number of samples in train dataset:\\n\", movie_revs_train.shape[0], '\\n')\n",
        "\n",
        "print(\"Number of samples in test dataset:\\n\", movie_revs_test.shape[0], '\\n')\n",
        "\n",
        "print(\"Number of samples in validation dataset:\\n\", movie_revs_validate.shape[0], '\\n')"
      ]
    },
    {
      "cell_type": "markdown",
      "id": "d19501cb",
      "metadata": {
        "id": "d19501cb"
      },
      "source": [
        "checking label distribution..."
      ]
    },
    {
      "cell_type": "code",
      "execution_count": null,
      "id": "8e8ac567",
      "metadata": {
        "id": "8e8ac567",
        "outputId": "c4cc97f2-0a66-4f22-e0fd-62a895a27b9e"
      },
      "outputs": [
        {
          "data": {
            "image/png": "[encoded data removed]",
            "text/plain": [
              "<Figure size 640x480 with 1 Axes>"
            ]
          },
          "metadata": {},
          "output_type": "display_data"
        }
      ],
      "source": [
        "sns.countplot(x = movie_revs_train['label'])\n",
        "plt.title(\"Label distribution in Training Set\")\n",
        "plt.show()"
      ]
    },
    {
      "cell_type": "markdown",
      "id": "112152c9",
      "metadata": {
        "id": "112152c9"
      },
      "source": [
        "checking for duplicates..."
      ]
    },
    {
      "cell_type": "code",
      "execution_count": null,
      "id": "c8ac1feb",
      "metadata": {
        "id": "c8ac1feb",
        "outputId": "0a1cbbfb-89ac-4640-f63f-973d181dd8b5"
      },
      "outputs": [
        {
          "name": "stdout",
          "output_type": "stream",
          "text": [
            "Number of duplicates: 277\n"
          ]
        }
      ],
      "source": [
        "dup = movie_revs_train.duplicated().sum()\n",
        "\n",
        "print(f\"Number of duplicates: {dup}\")"
      ]
    },
    {
      "cell_type": "code",
      "execution_count": null,
      "id": "0856413f",
      "metadata": {
        "id": "0856413f",
        "outputId": "22a5fd27-1e18-42dd-f501-f022d295193b"
      },
      "outputs": [
        {
          "name": "stdout",
          "output_type": "stream",
          "text": [
            "Number of duplicates after being cleaned: 0\n"
          ]
        }
      ],
      "source": [
        "movie_revs_train = movie_revs_train.drop_duplicates()\n",
        "\n",
        "print(f\"Number of duplicates after being cleaned: {movie_revs_train.duplicated().sum()}\")"
      ]
    },
    {
      "cell_type": "markdown",
      "id": "65080cc2",
      "metadata": {
        "id": "65080cc2"
      },
      "source": [
        "checking for unnecessary characters..."
      ]
    },
    {
      "cell_type": "code",
      "execution_count": null,
      "id": "7433aca7",
      "metadata": {
        "id": "7433aca7",
        "outputId": "82b63d83-b7a9-42f5-c8c9-a5adf9fdf286"
      },
      "outputs": [
        {
          "name": "stdout",
          "output_type": "stream",
          "text": [
            "['I saw this film at the Rotterdam Festival, as did presumably all the other voters. The Director was present and seemed to have worked very hard and be very committed to the project, which I think explains the above average reception and mark it got. It\\'s most similar to a feature length episode of Aussie kids favourite \"Round the Twist\" but it takes itself too seriously to have even that redeeming feature. The movie in itself is maybe worth seeing if you\\'re trying to do a cinematic world tour visiting all UN member states, as I can\\'t think of another Fijian movie but overall it was generic, poorly acted (albeit by an amateur cast) and prey to the subaltern mentality. The moral of the story seemed to be that native islanders will try and screw each other over, but as long as there is an essentially decent white governor to step in, all problems can be solved (by leaving the island).'\n",
            " 'Okay, enough. Every time I think I\\'ve seen a film that is so misbegotten, so bad in every way that I think that no one could possibly find something to praise, I just come to the IMDb where I\\'m greeted with the usual inane \"Undiscovered masterpiece\" \"GREAT film\" - I mean, honestly, what movie are you people watching, because it\\'s certainly not the mess I just watched on the new Fox/MGM/UA DVD. There are about three amusing lines, and a plot that gives incoherence a new meaning. And then, after ninety-three interminable minutes, it just stops and the end credits begin. Then there\\'s another scene. The DVD is fairly wretched, which suits the film. The source material is almost completely faded to an ugly brown. It\\'s hard to imagine this film followed Get Carter. The critics and the public got this one right back then - it was lambasted and a box-office disaster, and rightfully so. But you pundits keep on trying. And I\\'ll keep on trying to find a movie that DOESN\\'T have SOMEONE who raves about it.'\n",
            " 'This is probably the best movie from director Hector Babenco. It shows a Brazilian reality unknown by foreigners, which is the same reality that haunts all of the Latin American countries, poverty and a survival instinct. The most affected in this reality is the children usually left orphans, or abandoned by their poor parents have to make it in a \"dog eat dog\" society many times falling into the gap of delinquency, prostitution and crime. Very well acted and with a \"no frills\" approach, this movie will get to you, Great story plot, a must have movie on anybody\\'s collection. The starring role went to Fernando Ramos da Silva, a young boy who fell into the crime wave, killed some years later during a robbery. I would suggest people to watch the movie \"Who killed Pixote?\" so you can have a more in depth idea of the lives of these characters. Some other Characters from the movie had a similar fate, some died and others are in jail. None the less this movie will last for a long time in your memory'\n",
            " 'This must be one of the worst movies I have ever seen. I was actually expecting a bad movie but I was caught by surprise believe it or not. The storyline is the traditional, all clichées are included.<br /><br />The dialogue is so poorly written that you actually laugh when the otherwise half-descent actors are trying to make it sound real. The photo is not too good, the music is so malplacée it actually made me angry, the actors are not even trying, altho the script makes it almost impossible you could expect more from people that have been acting for 30 years and the so called action scenes actually manage to lack the \"action\" itself.<br /><br />I dont understand why these types of bad movies keep on coming, who is financing this shit? Where is the screening ? And why on earth do actors take on this mission impossible script?<br /><br />There are a million hollywood-movies in this genre without even aspiration of reaching the theaters, but even them Straight To Video things actually manages to look professional in comparison.<br /><br />I can not say anything positive about this except the title which explains it all, I feel robbed of 2 hours of my life.'\n",
            " \"Welsh poet Dylan Thomas excused from serving in active duty is doing his bit for the war effort producing bits of prose for some propaganda branch of government in Whitehall.<br /><br />Thomas is portrayed as a freethinker believing in free love married to a woman with an equally demanding artistic streak and likewise with a penchant for extramarital romance. Thomas writing and reciting his poetry in systematic domestic mayhem throughout becomes somewhat priggish towards the end, resting somewhat uncomfortably on his society connections and pulling rank on a war veteran, who had shot up his house, and who was incidentally married to the woman he had been having an affair with.<br /><br />The real story of this film is the love of two women, one (Keira Knightley) whose first love was Thomas (Matthew Rhys), the second (Sienna Miller) who is Thomas's wife. At times it reminds of The Singing Detective, as in very good television with slightly sinister overtones laid on top of scenes of surreal camp absurdity.\"]\n"
          ]
        }
      ],
      "source": [
        "import re\n",
        "\n",
        "print(movie_revs_train['text'].sample(5).values)"
      ]
    },
    {
      "cell_type": "markdown",
      "id": "e4bd662d",
      "metadata": {
        "id": "e4bd662d"
      },
      "source": [
        "cleaning unnecessary characters..."
      ]
    },
    {
      "cell_type": "code",
      "execution_count": null,
      "id": "3e79d638",
      "metadata": {
        "id": "3e79d638"
      },
      "outputs": [],
      "source": [
        "def text_cleaning_algo(inp_text):\n",
        "    inp_text = re.sub(r\"<.*?>\", \" \", inp_text)\n",
        "\n",
        "    inp_text = re.sub(r\"\\s+\", \" \", inp_text).strip()\n",
        "\n",
        "    return inp_text\n",
        "\n",
        "\n",
        "movie_revs_train['text'] = movie_revs_train['text'].apply(text_cleaning_algo)\n",
        "\n",
        "movie_revs_test['text'] = movie_revs_test['text'].apply(text_cleaning_algo)\n",
        "\n",
        "movie_revs_validate['text'] = movie_revs_validate['text'].apply(text_cleaning_algo)"
      ]
    },
    {
      "cell_type": "code",
      "execution_count": null,
      "id": "40afbd99",
      "metadata": {
        "id": "40afbd99",
        "outputId": "79d352a1-afd6-4083-a1e6-e77552cbf207"
      },
      "outputs": [
        {
          "name": "stdout",
          "output_type": "stream",
          "text": [
            "['After I got done watching this movie I was so upset that I had wasted 2 hours of my life. That\\'s 2 hours I\\'ll never get back. Ugh. When you start this you might think \"Wow this is really good!\" But rest assured that first impressions mean NOTHING. I was so excited about this movie until the dumbest ending I have ever seen. This movie is simply pathetic. The acting is bland, the story line is anything but original and there\\'s nothing especially unique about this except that it\\'s the WORST MOVIE EVER!!! DO NOT WATCH THIS MOVIE!!! WARNING!! DUMBEST MOVIE EVER YOU WILL BE SORRY IF YOU WASTE 2 HOURS OF YOUR LIFE ON THIS!!! 1/10'\n",
            " 'It\\'s amazing that actress P.J. Soles didn\\'t become a big star after playing Riff Randall, #1 fan of the punk rock group the Ramones, in \"Rock \\'n\\' Roll High School\". Soles is so exuberant, you don\\'t mind she\\'s obviously too old to still be in high school (that fact is leveled out by having all the kids look 24). The movie is a fast-paced frolic that doesn\\'t cop-out; everything gets blown to smithereens at the end, and that\\'s just as it should be. Mary Woronov, an innately kinky and funny presence as the Nazi-like principal, gets a great, one-of-a-kind bit at the beginning where Frisbees fly dangerously close to her head (how many takes did they use on that, or was it a fluke?) and Dey Young is very appealing as Soles\\' best, Kate Rambeau. The weakest link, ironically enough, in this \"High School\" chain-gang is the Ramones. They can\\'t act, they\\'re not funny, and their concert segment goes on too long. One Ramones song, \"I Want You Around\", is treated as a fantasy and is well captured; other incidental songs are good, particularly a rare Paul McCartney ballad heard near the beginning (\"Did We Meet Somewhere Before?\"). Great fun! *** from ****'\n",
            " \"This is one strange hacked together film, you get the feeling that the bond company had to come in on this one, I'm not surprised there's no credits on it, who would want to be associated with this film. The Acting of all involved is terribly stilted and the plot jumps around all over, it all makes very little sense. As I said before it looks like the bond company had to come in because it seems like there was alot of footage that wasn't shot that needed to be, and all the music was very ill-fitting library music (cheap I guess). Very, very odd. I might actually buy a DVD of it though, if it could let me in on what the hell was going on, and what happened to this movie.\"\n",
            " \"One of John's Funniest, Eugene Levy is great in this one as well, Just wish the studio would figure out that this one needs to be on DVD, i have it on video tape, but feel that this film deserves DVD (and extras would be great) the Kung Fu Uuniversity (Kung Fu U) skit is so very funny, as is the entire film, also the scenes he has with his girlfriend and her family are great, this movie never seems to be on TV, but it loses most of it's hilarity when edited for broadcast TV, if you can find the video i would suggest you buy it (ebay is a good place to find a copy) I will keep my VHS until one day we get to see it on DVD. there are so many great movies out there that still have not been released to DVD, and this is one of them.\"\n",
            " 'I have just watched the movie for the first time. I wanted to watch it as I like Drew Barrymore and wanted to see one of her early movies. The movie is about a girl (played by young and beautiful Drew Barrymore), who moves from NYC to LA in order to get over her recently troubled loss. Short after moving to a guy who falls in love with her, it becomes obvious that she has an evil twin=doppelganger, who haunts her. The movie is quite poor and lousy. Both the dialogs and the acting make the film not really worth seeing it. Summing up it is just something for the fans of Drew Barrymore.']\n"
          ]
        }
      ],
      "source": [
        "print(movie_revs_train['text'].sample(5). values)"
      ]
    },
    {
      "cell_type": "markdown",
      "id": "027a30c9",
      "metadata": {
        "id": "027a30c9"
      },
      "source": [
        "Converting all text to lowercase..."
      ]
    },
    {
      "cell_type": "code",
      "execution_count": null,
      "id": "a2fa09c6",
      "metadata": {
        "id": "a2fa09c6"
      },
      "outputs": [],
      "source": [
        "movie_revs_train['text'] = movie_revs_train['text'].str.lower()\n",
        "\n",
        "movie_revs_test['text'] = movie_revs_test['text'].str.lower()\n",
        "\n",
        "movie_revs_validate['text'] = movie_revs_validate['text'].str.lower()"
      ]
    },
    {
      "cell_type": "markdown",
      "id": "b9d42609",
      "metadata": {
        "id": "b9d42609"
      },
      "source": [
        "Removing stopwords (words that don’t add much meaning to the text and can be removed to improve model performance)..."
      ]
    },
    {
      "cell_type": "code",
      "execution_count": null,
      "id": "da82cd81",
      "metadata": {
        "id": "da82cd81",
        "outputId": "3d8cb9bd-bb6d-44f7-d209-d6ca97b6e53f"
      },
      "outputs": [
        {
          "name": "stderr",
          "output_type": "stream",
          "text": [
            "[nltk_data] Error loading stopwords: <urlopen error [Errno 11001]\n",
            "[nltk_data]     getaddrinfo failed>\n"
          ]
        },
        {
          "data": {
            "text/plain": [
              "False"
            ]
          },
          "execution_count": 15,
          "metadata": {},
          "output_type": "execute_result"
        }
      ],
      "source": [
        "from nltk.corpus import stopwords\n",
        "\n",
        "nltk.download('stopwords')"
      ]
    },
    {
      "cell_type": "code",
      "execution_count": null,
      "id": "ef752f56",
      "metadata": {
        "id": "ef752f56",
        "outputId": "b5ad2d06-b47c-4580-b676-8f3fe64e4313"
      },
      "outputs": [
        {
          "data": {
            "text/plain": [
              "{'a',\n",
              " 'about',\n",
              " 'above',\n",
              " 'after',\n",
              " 'again',\n",
              " 'against',\n",
              " 'ain',\n",
              " 'all',\n",
              " 'am',\n",
              " 'an',\n",
              " 'and',\n",
              " 'any',\n",
              " 'are',\n",
              " 'aren',\n",
              " \"aren't\",\n",
              " 'as',\n",
              " 'at',\n",
              " 'be',\n",
              " 'because',\n",
              " 'been',\n",
              " 'before',\n",
              " 'being',\n",
              " 'below',\n",
              " 'between',\n",
              " 'both',\n",
              " 'but',\n",
              " 'by',\n",
              " 'can',\n",
              " 'couldn',\n",
              " \"couldn't\",\n",
              " 'd',\n",
              " 'did',\n",
              " 'didn',\n",
              " \"didn't\",\n",
              " 'do',\n",
              " 'does',\n",
              " 'doesn',\n",
              " \"doesn't\",\n",
              " 'doing',\n",
              " 'don',\n",
              " \"don't\",\n",
              " 'down',\n",
              " 'during',\n",
              " 'each',\n",
              " 'few',\n",
              " 'for',\n",
              " 'from',\n",
              " 'further',\n",
              " 'had',\n",
              " 'hadn',\n",
              " \"hadn't\",\n",
              " 'has',\n",
              " 'hasn',\n",
              " \"hasn't\",\n",
              " 'have',\n",
              " 'haven',\n",
              " \"haven't\",\n",
              " 'having',\n",
              " 'he',\n",
              " \"he'd\",\n",
              " \"he'll\",\n",
              " \"he's\",\n",
              " 'her',\n",
              " 'here',\n",
              " 'hers',\n",
              " 'herself',\n",
              " 'him',\n",
              " 'himself',\n",
              " 'his',\n",
              " 'how',\n",
              " 'i',\n",
              " \"i'd\",\n",
              " \"i'll\",\n",
              " \"i'm\",\n",
              " \"i've\",\n",
              " 'if',\n",
              " 'in',\n",
              " 'into',\n",
              " 'is',\n",
              " 'isn',\n",
              " \"isn't\",\n",
              " 'it',\n",
              " \"it'd\",\n",
              " \"it'll\",\n",
              " \"it's\",\n",
              " 'its',\n",
              " 'itself',\n",
              " 'just',\n",
              " 'll',\n",
              " 'm',\n",
              " 'ma',\n",
              " 'me',\n",
              " 'mightn',\n",
              " \"mightn't\",\n",
              " 'more',\n",
              " 'most',\n",
              " 'mustn',\n",
              " \"mustn't\",\n",
              " 'my',\n",
              " 'myself',\n",
              " 'needn',\n",
              " \"needn't\",\n",
              " 'no',\n",
              " 'nor',\n",
              " 'not',\n",
              " 'now',\n",
              " 'o',\n",
              " 'of',\n",
              " 'off',\n",
              " 'on',\n",
              " 'once',\n",
              " 'only',\n",
              " 'or',\n",
              " 'other',\n",
              " 'our',\n",
              " 'ours',\n",
              " 'ourselves',\n",
              " 'out',\n",
              " 'over',\n",
              " 'own',\n",
              " 're',\n",
              " 's',\n",
              " 'same',\n",
              " 'shan',\n",
              " \"shan't\",\n",
              " 'she',\n",
              " \"she'd\",\n",
              " \"she'll\",\n",
              " \"she's\",\n",
              " 'should',\n",
              " \"should've\",\n",
              " 'shouldn',\n",
              " \"shouldn't\",\n",
              " 'so',\n",
              " 'some',\n",
              " 'such',\n",
              " 't',\n",
              " 'than',\n",
              " 'that',\n",
              " \"that'll\",\n",
              " 'the',\n",
              " 'their',\n",
              " 'theirs',\n",
              " 'them',\n",
              " 'themselves',\n",
              " 'then',\n",
              " 'there',\n",
              " 'these',\n",
              " 'they',\n",
              " \"they'd\",\n",
              " \"they'll\",\n",
              " \"they're\",\n",
              " \"they've\",\n",
              " 'this',\n",
              " 'those',\n",
              " 'through',\n",
              " 'to',\n",
              " 'too',\n",
              " 'under',\n",
              " 'until',\n",
              " 'up',\n",
              " 've',\n",
              " 'very',\n",
              " 'was',\n",
              " 'wasn',\n",
              " \"wasn't\",\n",
              " 'we',\n",
              " \"we'd\",\n",
              " \"we'll\",\n",
              " \"we're\",\n",
              " \"we've\",\n",
              " 'were',\n",
              " 'weren',\n",
              " \"weren't\",\n",
              " 'what',\n",
              " 'when',\n",
              " 'where',\n",
              " 'which',\n",
              " 'while',\n",
              " 'who',\n",
              " 'whom',\n",
              " 'why',\n",
              " 'will',\n",
              " 'with',\n",
              " 'won',\n",
              " \"won't\",\n",
              " 'wouldn',\n",
              " \"wouldn't\",\n",
              " 'y',\n",
              " 'you',\n",
              " \"you'd\",\n",
              " \"you'll\",\n",
              " \"you're\",\n",
              " \"you've\",\n",
              " 'your',\n",
              " 'yours',\n",
              " 'yourself',\n",
              " 'yourselves'}"
            ]
          },
          "execution_count": 16,
          "metadata": {},
          "output_type": "execute_result"
        }
      ],
      "source": [
        "stopwords_list = set(stopwords.words('english'))\n",
        "\n",
        "stopwords_list"
      ]
    },
    {
      "cell_type": "code",
      "execution_count": null,
      "id": "a4fb2120",
      "metadata": {
        "id": "a4fb2120"
      },
      "outputs": [],
      "source": [
        "def stopwords_removal(inp_text):\n",
        "    return \" \".join([word for word in inp_text.split() if word not in stopwords_list])\n",
        "\n",
        "\n",
        "movie_revs_train[\"text\"] = movie_revs_train[\"text\"].apply(stopwords_removal)\n",
        "\n",
        "movie_revs_test[\"text\"] = movie_revs_test[\"text\"].apply(stopwords_removal)\n",
        "\n",
        "movie_revs_validate[\"text\"] = movie_revs_validate[\"text\"].apply(stopwords_removal)"
      ]
    },
    {
      "cell_type": "markdown",
      "id": "67b2a478",
      "metadata": {
        "id": "67b2a478"
      },
      "source": [
        "removing punctuation..."
      ]
    },
    {
      "cell_type": "code",
      "execution_count": null,
      "id": "8bc2a205",
      "metadata": {
        "id": "8bc2a205"
      },
      "outputs": [],
      "source": [
        "import string\n",
        "def punctuation_removal(inp_statement):\n",
        "    return inp_statement.translate(str.maketrans(\"\", \"\", string.punctuation))\n",
        "\n",
        "movie_revs_train['text'] = movie_revs_train['text'].apply(punctuation_removal)\n",
        "\n",
        "movie_revs_test['text'] = movie_revs_test['text'].apply(punctuation_removal)\n",
        "\n",
        "movie_revs_validate['text'] = movie_revs_validate['text'].apply(punctuation_removal)"
      ]
    },
    {
      "cell_type": "markdown",
      "id": "1e3ed35c",
      "metadata": {
        "id": "1e3ed35c"
      },
      "source": [
        "lemmatizing the words....\n",
        "\n",
        "<i>For example, running → run, better → good</i>"
      ]
    },
    {
      "cell_type": "code",
      "execution_count": null,
      "id": "7f4b57e2",
      "metadata": {
        "id": "7f4b57e2"
      },
      "outputs": [],
      "source": [
        "# import nltk\n",
        "# import os\n",
        "\n",
        "# nltk.data.path.append(\"C:/Users/USER/AppData/Roaming/nltk_data/corpora\")  # Replace with the actual path\n",
        "\n",
        "# # C:\\Users\\USER\\AppData\\Roaming\\nltk_data\\"
      ]
    },
    {
      "cell_type": "code",
      "execution_count": null,
      "id": "607eedfd",
      "metadata": {
        "id": "607eedfd",
        "outputId": "3722d9b5-cb9c-48a6-e0c9-92563bebedac"
      },
      "outputs": [
        {
          "name": "stderr",
          "output_type": "stream",
          "text": [
            "[nltk_data] Error loading wordnet: <urlopen error [Errno 11001]\n",
            "[nltk_data]     getaddrinfo failed>\n",
            "[nltk_data] Error loading omw-1.4: <urlopen error [Errno 11001]\n",
            "[nltk_data]     getaddrinfo failed>\n",
            "[nltk_data] Error loading punkt: <urlopen error [Errno 11001]\n",
            "[nltk_data]     getaddrinfo failed>\n",
            "[nltk_data] Error loading punkt_tab: <urlopen error [Errno 11001]\n",
            "[nltk_data]     getaddrinfo failed>\n"
          ]
        }
      ],
      "source": [
        "from nltk.stem import WordNetLemmatizer\n",
        "from nltk.tokenize import word_tokenize\n",
        "import nltk\n",
        "\n",
        "\n",
        "nltk.download('wordnet')\n",
        "nltk.download('omw-1.4')\n",
        "nltk.download('punkt')\n",
        "nltk.download('punkt_tab')\n",
        "\n",
        "lemmatization_algorithm = WordNetLemmatizer()"
      ]
    },
    {
      "cell_type": "code",
      "execution_count": null,
      "id": "8b6bb203",
      "metadata": {
        "id": "8b6bb203"
      },
      "outputs": [],
      "source": [
        "lemmatization_algorithm = WordNetLemmatizer()\n",
        "\n",
        "def text_lemmatization(inp_text):\n",
        "    try:\n",
        "        words = word_tokenize(inp_text)\n",
        "        lemmatized_words = [lemmatization_algorithm.lemmatize(word) for word in words]\n",
        "        return \" \".join(lemmatized_words)\n",
        "    except Exception as e:\n",
        "        print(f\"Error lemmatizing: {inp_text} - {e}\")\n",
        "        return inp_text  # Or return a default value like \"\"\n",
        "\n",
        "movie_revs_train['text'] = movie_revs_train['text'].apply(text_lemmatization)\n",
        "\n",
        "movie_revs_test['text'] = movie_revs_test['text'].apply(text_lemmatization)\n",
        "\n",
        "movie_revs_validate['text'] = movie_revs_validate['text'].apply(text_lemmatization)"
      ]
    },
    {
      "cell_type": "markdown",
      "id": "458cd9ed",
      "metadata": {
        "id": "458cd9ed"
      },
      "source": [
        "Vectorizing the texts...\n",
        "\n",
        "<i>Vectorization is the process of converting text data into a numerical format while preserving its meaning</i>"
      ]
    },
    {
      "cell_type": "code",
      "execution_count": null,
      "id": "053063a8",
      "metadata": {
        "id": "053063a8"
      },
      "outputs": [],
      "source": [
        "from sklearn.feature_extraction.text import TfidfVectorizer\n",
        "\n",
        "\n",
        "vectorization_algorithm = TfidfVectorizer(\n",
        "    max_features = 10000,\n",
        "    stop_words = 'english',\n",
        "    ngram_range = (1, 2)\n",
        ")\n",
        "\n",
        "# fitting and transforming the training data\n",
        "x_train_vector = vectorization_algorithm.fit_transform(movie_revs_train['text'])\n",
        "\n",
        "# transforming the test and validation data from vocabulary learned from training data\n",
        "\n",
        "x_test_vector = vectorization_algorithm.transform(movie_revs_test['text'])\n",
        "\n",
        "x_validate_vector = vectorization_algorithm.transform(movie_revs_validate['text'])\n",
        "\n",
        "\n",
        "# assigning our target labels..\n",
        "\n",
        "y_train = movie_revs_train['label']\n",
        "\n",
        "y_test = movie_revs_test['label']\n",
        "\n",
        "y_validate = movie_revs_validate['label']"
      ]
    },
    {
      "cell_type": "markdown",
      "id": "e04ed2d8",
      "metadata": {
        "id": "e04ed2d8"
      },
      "source": [
        "We're gona use the Naive Bayes Algorithm for this project...\n",
        "\n",
        "\n",
        "<i><b>Naïve Bayes</b> is great for text classification because it assumes word probabilities are independent, which works well in NLP tasks like sentiment analysis.\n",
        "\n",
        "We'll use <strong>Multinomial Naïve Bayes</strong> (MultinomialNB from sklearn) since it's designed for text-based problems.</i>"
      ]
    },
    {
      "cell_type": "code",
      "execution_count": null,
      "id": "ca8cecea",
      "metadata": {
        "id": "ca8cecea",
        "outputId": "98fd1bff-5c39-48a1-ad9d-8258fa4d2891"
      },
      "outputs": [
        {
          "data": {
            "text/html": [
              "<style>#sk-container-id-1 {\n",
              "  /* Definition of color scheme common for light and dark mode */\n",
              "  --sklearn-color-text: #000;\n",
              "  --sklearn-color-text-muted: #666;\n",
              "  --sklearn-color-line: gray;\n",
              "  /* Definition of color scheme for unfitted estimators */\n",
              "  --sklearn-color-unfitted-level-0: #fff5e6;\n",
              "  --sklearn-color-unfitted-level-1: #f6e4d2;\n",
              "  --sklearn-color-unfitted-level-2: #ffe0b3;\n",
              "  --sklearn-color-unfitted-level-3: chocolate;\n",
              "  /* Definition of color scheme for fitted estimators */\n",
              "  --sklearn-color-fitted-level-0: #f0f8ff;\n",
              "  --sklearn-color-fitted-level-1: #d4ebff;\n",
              "  --sklearn-color-fitted-level-2: #b3dbfd;\n",
              "  --sklearn-color-fitted-level-3: cornflowerblue;\n",
              "\n",
              "  /* Specific color for light theme */\n",
              "  --sklearn-color-text-on-default-background: var(--sg-text-color, var(--theme-code-foreground, var(--jp-content-font-color1, black)));\n",
              "  --sklearn-color-background: var(--sg-background-color, var(--theme-background, var(--jp-layout-color0, white)));\n",
              "  --sklearn-color-border-box: var(--sg-text-color, var(--theme-code-foreground, var(--jp-content-font-color1, black)));\n",
              "  --sklearn-color-icon: #696969;\n",
              "\n",
              "  @media (prefers-color-scheme: dark) {\n",
              "    /* Redefinition of color scheme for dark theme */\n",
              "    --sklearn-color-text-on-default-background: var(--sg-text-color, var(--theme-code-foreground, var(--jp-content-font-color1, white)));\n",
              "    --sklearn-color-background: var(--sg-background-color, var(--theme-background, var(--jp-layout-color0, #111)));\n",
              "    --sklearn-color-border-box: var(--sg-text-color, var(--theme-code-foreground, var(--jp-content-font-color1, white)));\n",
              "    --sklearn-color-icon: #878787;\n",
              "  }\n",
              "}\n",
              "\n",
              "#sk-container-id-1 {\n",
              "  color: var(--sklearn-color-text);\n",
              "}\n",
              "\n",
              "#sk-container-id-1 pre {\n",
              "  padding: 0;\n",
              "}\n",
              "\n",
              "#sk-container-id-1 input.sk-hidden--visually {\n",
              "  border: 0;\n",
              "  clip: rect(1px 1px 1px 1px);\n",
              "  clip: rect(1px, 1px, 1px, 1px);\n",
              "  height: 1px;\n",
              "  margin: -1px;\n",
              "  overflow: hidden;\n",
              "  padding: 0;\n",
              "  position: absolute;\n",
              "  width: 1px;\n",
              "}\n",
              "\n",
              "#sk-container-id-1 div.sk-dashed-wrapped {\n",
              "  border: 1px dashed var(--sklearn-color-line);\n",
              "  margin: 0 0.4em 0.5em 0.4em;\n",
              "  box-sizing: border-box;\n",
              "  padding-bottom: 0.4em;\n",
              "  background-color: var(--sklearn-color-background);\n",
              "}\n",
              "\n",
              "#sk-container-id-1 div.sk-container {\n",
              "  /* jupyter's `normalize.less` sets `[hidden] { display: none; }`\n",
              "     but bootstrap.min.css set `[hidden] { display: none !important; }`\n",
              "     so we also need the `!important` here to be able to override the\n",
              "     default hidden behavior on the sphinx rendered scikit-learn.org.\n",
              "     See: https://github.com/scikit-learn/scikit-learn/issues/21755 */\n",
              "  display: inline-block !important;\n",
              "  position: relative;\n",
              "}\n",
              "\n",
              "#sk-container-id-1 div.sk-text-repr-fallback {\n",
              "  display: none;\n",
              "}\n",
              "\n",
              "div.sk-parallel-item,\n",
              "div.sk-serial,\n",
              "div.sk-item {\n",
              "  /* draw centered vertical line to link estimators */\n",
              "  background-image: linear-gradient(var(--sklearn-color-text-on-default-background), var(--sklearn-color-text-on-default-background));\n",
              "  background-size: 2px 100%;\n",
              "  background-repeat: no-repeat;\n",
              "  background-position: center center;\n",
              "}\n",
              "\n",
              "/* Parallel-specific style estimator block */\n",
              "\n",
              "#sk-container-id-1 div.sk-parallel-item::after {\n",
              "  content: \"\";\n",
              "  width: 100%;\n",
              "  border-bottom: 2px solid var(--sklearn-color-text-on-default-background);\n",
              "  flex-grow: 1;\n",
              "}\n",
              "\n",
              "#sk-container-id-1 div.sk-parallel {\n",
              "  display: flex;\n",
              "  align-items: stretch;\n",
              "  justify-content: center;\n",
              "  background-color: var(--sklearn-color-background);\n",
              "  position: relative;\n",
              "}\n",
              "\n",
              "#sk-container-id-1 div.sk-parallel-item {\n",
              "  display: flex;\n",
              "  flex-direction: column;\n",
              "}\n",
              "\n",
              "#sk-container-id-1 div.sk-parallel-item:first-child::after {\n",
              "  align-self: flex-end;\n",
              "  width: 50%;\n",
              "}\n",
              "\n",
              "#sk-container-id-1 div.sk-parallel-item:last-child::after {\n",
              "  align-self: flex-start;\n",
              "  width: 50%;\n",
              "}\n",
              "\n",
              "#sk-container-id-1 div.sk-parallel-item:only-child::after {\n",
              "  width: 0;\n",
              "}\n",
              "\n",
              "/* Serial-specific style estimator block */\n",
              "\n",
              "#sk-container-id-1 div.sk-serial {\n",
              "  display: flex;\n",
              "  flex-direction: column;\n",
              "  align-items: center;\n",
              "  background-color: var(--sklearn-color-background);\n",
              "  padding-right: 1em;\n",
              "  padding-left: 1em;\n",
              "}\n",
              "\n",
              "\n",
              "/* Toggleable style: style used for estimator/Pipeline/ColumnTransformer box that is\n",
              "clickable and can be expanded/collapsed.\n",
              "- Pipeline and ColumnTransformer use this feature and define the default style\n",
              "- Estimators will overwrite some part of the style using the `sk-estimator` class\n",
              "*/\n",
              "\n",
              "/* Pipeline and ColumnTransformer style (default) */\n",
              "\n",
              "#sk-container-id-1 div.sk-toggleable {\n",
              "  /* Default theme specific background. It is overwritten whether we have a\n",
              "  specific estimator or a Pipeline/ColumnTransformer */\n",
              "  background-color: var(--sklearn-color-background);\n",
              "}\n",
              "\n",
              "/* Toggleable label */\n",
              "#sk-container-id-1 label.sk-toggleable__label {\n",
              "  cursor: pointer;\n",
              "  display: flex;\n",
              "  width: 100%;\n",
              "  margin-bottom: 0;\n",
              "  padding: 0.5em;\n",
              "  box-sizing: border-box;\n",
              "  text-align: center;\n",
              "  align-items: start;\n",
              "  justify-content: space-between;\n",
              "  gap: 0.5em;\n",
              "}\n",
              "\n",
              "#sk-container-id-1 label.sk-toggleable__label .caption {\n",
              "  font-size: 0.6rem;\n",
              "  font-weight: lighter;\n",
              "  color: var(--sklearn-color-text-muted);\n",
              "}\n",
              "\n",
              "#sk-container-id-1 label.sk-toggleable__label-arrow:before {\n",
              "  /* Arrow on the left of the label */\n",
              "  content: \"▸\";\n",
              "  float: left;\n",
              "  margin-right: 0.25em;\n",
              "  color: var(--sklearn-color-icon);\n",
              "}\n",
              "\n",
              "#sk-container-id-1 label.sk-toggleable__label-arrow:hover:before {\n",
              "  color: var(--sklearn-color-text);\n",
              "}\n",
              "\n",
              "/* Toggleable content - dropdown */\n",
              "\n",
              "#sk-container-id-1 div.sk-toggleable__content {\n",
              "  max-height: 0;\n",
              "  max-width: 0;\n",
              "  overflow: hidden;\n",
              "  text-align: left;\n",
              "  /* unfitted */\n",
              "  background-color: var(--sklearn-color-unfitted-level-0);\n",
              "}\n",
              "\n",
              "#sk-container-id-1 div.sk-toggleable__content.fitted {\n",
              "  /* fitted */\n",
              "  background-color: var(--sklearn-color-fitted-level-0);\n",
              "}\n",
              "\n",
              "#sk-container-id-1 div.sk-toggleable__content pre {\n",
              "  margin: 0.2em;\n",
              "  border-radius: 0.25em;\n",
              "  color: var(--sklearn-color-text);\n",
              "  /* unfitted */\n",
              "  background-color: var(--sklearn-color-unfitted-level-0);\n",
              "}\n",
              "\n",
              "#sk-container-id-1 div.sk-toggleable__content.fitted pre {\n",
              "  /* unfitted */\n",
              "  background-color: var(--sklearn-color-fitted-level-0);\n",
              "}\n",
              "\n",
              "#sk-container-id-1 input.sk-toggleable__control:checked~div.sk-toggleable__content {\n",
              "  /* Expand drop-down */\n",
              "  max-height: 200px;\n",
              "  max-width: 100%;\n",
              "  overflow: auto;\n",
              "}\n",
              "\n",
              "#sk-container-id-1 input.sk-toggleable__control:checked~label.sk-toggleable__label-arrow:before {\n",
              "  content: \"▾\";\n",
              "}\n",
              "\n",
              "/* Pipeline/ColumnTransformer-specific style */\n",
              "\n",
              "#sk-container-id-1 div.sk-label input.sk-toggleable__control:checked~label.sk-toggleable__label {\n",
              "  color: var(--sklearn-color-text);\n",
              "  background-color: var(--sklearn-color-unfitted-level-2);\n",
              "}\n",
              "\n",
              "#sk-container-id-1 div.sk-label.fitted input.sk-toggleable__control:checked~label.sk-toggleable__label {\n",
              "  background-color: var(--sklearn-color-fitted-level-2);\n",
              "}\n",
              "\n",
              "/* Estimator-specific style */\n",
              "\n",
              "/* Colorize estimator box */\n",
              "#sk-container-id-1 div.sk-estimator input.sk-toggleable__control:checked~label.sk-toggleable__label {\n",
              "  /* unfitted */\n",
              "  background-color: var(--sklearn-color-unfitted-level-2);\n",
              "}\n",
              "\n",
              "#sk-container-id-1 div.sk-estimator.fitted input.sk-toggleable__control:checked~label.sk-toggleable__label {\n",
              "  /* fitted */\n",
              "  background-color: var(--sklearn-color-fitted-level-2);\n",
              "}\n",
              "\n",
              "#sk-container-id-1 div.sk-label label.sk-toggleable__label,\n",
              "#sk-container-id-1 div.sk-label label {\n",
              "  /* The background is the default theme color */\n",
              "  color: var(--sklearn-color-text-on-default-background);\n",
              "}\n",
              "\n",
              "/* On hover, darken the color of the background */\n",
              "#sk-container-id-1 div.sk-label:hover label.sk-toggleable__label {\n",
              "  color: var(--sklearn-color-text);\n",
              "  background-color: var(--sklearn-color-unfitted-level-2);\n",
              "}\n",
              "\n",
              "/* Label box, darken color on hover, fitted */\n",
              "#sk-container-id-1 div.sk-label.fitted:hover label.sk-toggleable__label.fitted {\n",
              "  color: var(--sklearn-color-text);\n",
              "  background-color: var(--sklearn-color-fitted-level-2);\n",
              "}\n",
              "\n",
              "/* Estimator label */\n",
              "\n",
              "#sk-container-id-1 div.sk-label label {\n",
              "  font-family: monospace;\n",
              "  font-weight: bold;\n",
              "  display: inline-block;\n",
              "  line-height: 1.2em;\n",
              "}\n",
              "\n",
              "#sk-container-id-1 div.sk-label-container {\n",
              "  text-align: center;\n",
              "}\n",
              "\n",
              "/* Estimator-specific */\n",
              "#sk-container-id-1 div.sk-estimator {\n",
              "  font-family: monospace;\n",
              "  border: 1px dotted var(--sklearn-color-border-box);\n",
              "  border-radius: 0.25em;\n",
              "  box-sizing: border-box;\n",
              "  margin-bottom: 0.5em;\n",
              "  /* unfitted */\n",
              "  background-color: var(--sklearn-color-unfitted-level-0);\n",
              "}\n",
              "\n",
              "#sk-container-id-1 div.sk-estimator.fitted {\n",
              "  /* fitted */\n",
              "  background-color: var(--sklearn-color-fitted-level-0);\n",
              "}\n",
              "\n",
              "/* on hover */\n",
              "#sk-container-id-1 div.sk-estimator:hover {\n",
              "  /* unfitted */\n",
              "  background-color: var(--sklearn-color-unfitted-level-2);\n",
              "}\n",
              "\n",
              "#sk-container-id-1 div.sk-estimator.fitted:hover {\n",
              "  /* fitted */\n",
              "  background-color: var(--sklearn-color-fitted-level-2);\n",
              "}\n",
              "\n",
              "/* Specification for estimator info (e.g. \"i\" and \"?\") */\n",
              "\n",
              "/* Common style for \"i\" and \"?\" */\n",
              "\n",
              ".sk-estimator-doc-link,\n",
              "a:link.sk-estimator-doc-link,\n",
              "a:visited.sk-estimator-doc-link {\n",
              "  float: right;\n",
              "  font-size: smaller;\n",
              "  line-height: 1em;\n",
              "  font-family: monospace;\n",
              "  background-color: var(--sklearn-color-background);\n",
              "  border-radius: 1em;\n",
              "  height: 1em;\n",
              "  width: 1em;\n",
              "  text-decoration: none !important;\n",
              "  margin-left: 0.5em;\n",
              "  text-align: center;\n",
              "  /* unfitted */\n",
              "  border: var(--sklearn-color-unfitted-level-1) 1pt solid;\n",
              "  color: var(--sklearn-color-unfitted-level-1);\n",
              "}\n",
              "\n",
              ".sk-estimator-doc-link.fitted,\n",
              "a:link.sk-estimator-doc-link.fitted,\n",
              "a:visited.sk-estimator-doc-link.fitted {\n",
              "  /* fitted */\n",
              "  border: var(--sklearn-color-fitted-level-1) 1pt solid;\n",
              "  color: var(--sklearn-color-fitted-level-1);\n",
              "}\n",
              "\n",
              "/* On hover */\n",
              "div.sk-estimator:hover .sk-estimator-doc-link:hover,\n",
              ".sk-estimator-doc-link:hover,\n",
              "div.sk-label-container:hover .sk-estimator-doc-link:hover,\n",
              ".sk-estimator-doc-link:hover {\n",
              "  /* unfitted */\n",
              "  background-color: var(--sklearn-color-unfitted-level-3);\n",
              "  color: var(--sklearn-color-background);\n",
              "  text-decoration: none;\n",
              "}\n",
              "\n",
              "div.sk-estimator.fitted:hover .sk-estimator-doc-link.fitted:hover,\n",
              ".sk-estimator-doc-link.fitted:hover,\n",
              "div.sk-label-container:hover .sk-estimator-doc-link.fitted:hover,\n",
              ".sk-estimator-doc-link.fitted:hover {\n",
              "  /* fitted */\n",
              "  background-color: var(--sklearn-color-fitted-level-3);\n",
              "  color: var(--sklearn-color-background);\n",
              "  text-decoration: none;\n",
              "}\n",
              "\n",
              "/* Span, style for the box shown on hovering the info icon */\n",
              ".sk-estimator-doc-link span {\n",
              "  display: none;\n",
              "  z-index: 9999;\n",
              "  position: relative;\n",
              "  font-weight: normal;\n",
              "  right: .2ex;\n",
              "  padding: .5ex;\n",
              "  margin: .5ex;\n",
              "  width: min-content;\n",
              "  min-width: 20ex;\n",
              "  max-width: 50ex;\n",
              "  color: var(--sklearn-color-text);\n",
              "  box-shadow: 2pt 2pt 4pt #999;\n",
              "  /* unfitted */\n",
              "  background: var(--sklearn-color-unfitted-level-0);\n",
              "  border: .5pt solid var(--sklearn-color-unfitted-level-3);\n",
              "}\n",
              "\n",
              ".sk-estimator-doc-link.fitted span {\n",
              "  /* fitted */\n",
              "  background: var(--sklearn-color-fitted-level-0);\n",
              "  border: var(--sklearn-color-fitted-level-3);\n",
              "}\n",
              "\n",
              ".sk-estimator-doc-link:hover span {\n",
              "  display: block;\n",
              "}\n",
              "\n",
              "/* \"?\"-specific style due to the `<a>` HTML tag */\n",
              "\n",
              "#sk-container-id-1 a.estimator_doc_link {\n",
              "  float: right;\n",
              "  font-size: 1rem;\n",
              "  line-height: 1em;\n",
              "  font-family: monospace;\n",
              "  background-color: var(--sklearn-color-background);\n",
              "  border-radius: 1rem;\n",
              "  height: 1rem;\n",
              "  width: 1rem;\n",
              "  text-decoration: none;\n",
              "  /* unfitted */\n",
              "  color: var(--sklearn-color-unfitted-level-1);\n",
              "  border: var(--sklearn-color-unfitted-level-1) 1pt solid;\n",
              "}\n",
              "\n",
              "#sk-container-id-1 a.estimator_doc_link.fitted {\n",
              "  /* fitted */\n",
              "  border: var(--sklearn-color-fitted-level-1) 1pt solid;\n",
              "  color: var(--sklearn-color-fitted-level-1);\n",
              "}\n",
              "\n",
              "/* On hover */\n",
              "#sk-container-id-1 a.estimator_doc_link:hover {\n",
              "  /* unfitted */\n",
              "  background-color: var(--sklearn-color-unfitted-level-3);\n",
              "  color: var(--sklearn-color-background);\n",
              "  text-decoration: none;\n",
              "}\n",
              "\n",
              "#sk-container-id-1 a.estimator_doc_link.fitted:hover {\n",
              "  /* fitted */\n",
              "  background-color: var(--sklearn-color-fitted-level-3);\n",
              "}\n",
              "</style><div id=\"sk-container-id-1\" class=\"sk-top-container\"><div class=\"sk-text-repr-fallback\"><pre>MultinomialNB()</pre><b>In a Jupyter environment, please rerun this cell to show the HTML representation or trust the notebook. <br />On GitHub, the HTML representation is unable to render, please try loading this page with nbviewer.org.</b></div><div class=\"sk-container\" hidden><div class=\"sk-item\"><div class=\"sk-estimator fitted sk-toggleable\"><input class=\"sk-toggleable__control sk-hidden--visually\" id=\"sk-estimator-id-1\" type=\"checkbox\" checked><label for=\"sk-estimator-id-1\" class=\"sk-toggleable__label fitted sk-toggleable__label-arrow\"><div><div>MultinomialNB</div></div><div><a class=\"sk-estimator-doc-link fitted\" rel=\"noreferrer\" target=\"_blank\" href=\"https://scikit-learn.org/1.6/modules/generated/sklearn.naive_bayes.MultinomialNB.html\">?<span>Documentation for MultinomialNB</span></a><span class=\"sk-estimator-doc-link fitted\">i<span>Fitted</span></span></div></label><div class=\"sk-toggleable__content fitted\"><pre>MultinomialNB()</pre></div> </div></div></div></div>"
            ],
            "text/plain": [
              "MultinomialNB()"
            ]
          },
          "execution_count": 23,
          "metadata": {},
          "output_type": "execute_result"
        }
      ],
      "source": [
        "from sklearn.naive_bayes import MultinomialNB\n",
        "\n",
        "from sklearn.metrics import accuracy_score, classification_report, confusion_matrix\n",
        "\n",
        "# deploying the model...\n",
        "naive_bayes_algo = MultinomialNB()\n",
        "\n",
        "# training the model\n",
        "naive_bayes_algo.fit(x_train_vector, y_train)"
      ]
    },
    {
      "cell_type": "markdown",
      "id": "70b1dc38",
      "metadata": {
        "id": "70b1dc38"
      },
      "source": [
        "Making predictions..."
      ]
    },
    {
      "cell_type": "code",
      "execution_count": null,
      "id": "470f79d4",
      "metadata": {
        "id": "470f79d4"
      },
      "outputs": [],
      "source": [
        "y_prediction = naive_bayes_algo.predict(x_test_vector)"
      ]
    },
    {
      "cell_type": "markdown",
      "id": "fed2a4aa",
      "metadata": {
        "id": "fed2a4aa"
      },
      "source": [
        "Evaluating the model..."
      ]
    },
    {
      "cell_type": "code",
      "execution_count": null,
      "id": "81365926",
      "metadata": {
        "id": "81365926",
        "outputId": "959c8e15-6f41-4bf5-9d47-f82dae303be3"
      },
      "outputs": [
        {
          "name": "stdout",
          "output_type": "stream",
          "text": [
            "Model Accuracy:  0.8624\n",
            "\n",
            "Classification Report: \n",
            "               precision    recall  f1-score   support\n",
            "\n",
            "           0       0.87      0.85      0.86      2495\n",
            "           1       0.85      0.88      0.86      2505\n",
            "\n",
            "    accuracy                           0.86      5000\n",
            "   macro avg       0.86      0.86      0.86      5000\n",
            "weighted avg       0.86      0.86      0.86      5000\n",
            " \n",
            "\n",
            "Confusion Matrix: \n",
            " [[2116  379]\n",
            " [ 309 2196]]\n"
          ]
        }
      ],
      "source": [
        "# accuracy of the model\n",
        "model_accuracy = accuracy_score(y_test, y_prediction)\n",
        "print(f\"Model Accuracy: {model_accuracy: .4f}\\n\")\n",
        "\n",
        "# Classification report (Precision, Recall, F1-Score)\n",
        "print(\"Classification Report: \\n\", classification_report(y_test, y_prediction), \"\\n\")\n",
        "\n",
        "# Confusion Matrix\n",
        "print(\"Confusion Matrix: \\n\", confusion_matrix(y_test, y_prediction))"
      ]
    },
    {
      "cell_type": "markdown",
      "id": "9ab6553f",
      "metadata": {
        "id": "9ab6553f"
      },
      "source": [
        "### Deployment Stage"
      ]
    },
    {
      "cell_type": "markdown",
      "id": "48392bb8",
      "metadata": {
        "id": "48392bb8"
      },
      "source": [
        "Saving the model..."
      ]
    },
    {
      "cell_type": "code",
      "execution_count": null,
      "id": "969400d5",
      "metadata": {
        "id": "969400d5",
        "outputId": "eceb2ba4-bdea-4380-b19e-615804306acd"
      },
      "outputs": [
        {
          "name": "stdout",
          "output_type": "stream",
          "text": [
            "The model and vectorizer has been saved successfully!\n"
          ]
        }
      ],
      "source": [
        "import joblib\n",
        "\n",
        "# saving the trained model...\n",
        "joblib.dump(naive_bayes_algo, \"sentiment_analysis_model.pkl\")\n",
        "\n",
        "# saving the TF-IDF vectorizer (needed for transforming input text)\n",
        "\n",
        "joblib.dump(vectorization_algorithm, \"vectorization_algo.pkl\")\n",
        "\n",
        "print(\"The model and vectorizer has been saved successfully!\")"
      ]
    }
  ],
  "metadata": {
    "kernelspec": {
      "display_name": "Python 3",
      "language": "python",
      "name": "python3"
    },
    "language_info": {
      "codemirror_mode": {
        "name": "ipython",
        "version": 3
      },
      "file_extension": ".py",
      "mimetype": "text/x-python",
      "name": "python",
      "nbconvert_exporter": "python",
      "pygments_lexer": "ipython3",
      "version": "3.10.5"
    },
    "colab": {
      "provenance": []
    }
  },
  "nbformat": 4,
  "nbformat_minor": 5
}